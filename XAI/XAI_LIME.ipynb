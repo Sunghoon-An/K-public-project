{
 "cells": [
  {
   "cell_type": "code",
   "execution_count": 1,
   "metadata": {},
   "outputs": [
    {
     "name": "stderr",
     "output_type": "stream",
     "text": [
      "Using TensorFlow backend.\n"
     ]
    }
   ],
   "source": [
    "import pickle\n",
    "from tensorflow.keras.models import load_model\n",
    "import os\n",
    "from tensorflow.keras.models import model_from_json\n",
    "import shap\n",
    "from sklearn.pipeline import Pipeline\n",
    "from tensorflow.keras import backend\n",
    "import tensorflow as tf\n",
    "from tensorflow.compat.v1.keras.backend import get_session\n",
    "import lime\n",
    "from lime import lime_tabular\n",
    "import numpy as np\n",
    "from tensorflow.keras import backend\n",
    "import tensorflow.keras.backend as K\n",
    "from tensorflow.keras.applications.vgg16 import preprocess_input\n",
    "import tensorflow as tf\n",
    "import tensorflow_probability as tfp\n",
    "import keras\n",
    "import pandas as pd\n",
    "from sklearn.metrics import confusion_matrix"
   ]
  },
  {
   "cell_type": "code",
   "execution_count": 25,
   "metadata": {},
   "outputs": [],
   "source": [
    "with open(\"test_cfs_binary.pkl\", \"rb\") as f:\n",
    "    test = pickle.load(f)"
   ]
  },
  {
   "cell_type": "code",
   "execution_count": 26,
   "metadata": {
    "scrolled": true
   },
   "outputs": [
    {
     "data": {
      "text/plain": [
       "(99096, 250)"
      ]
     },
     "execution_count": 26,
     "metadata": {},
     "output_type": "execute_result"
    }
   ],
   "source": [
    "test.shape"
   ]
  },
  {
   "cell_type": "code",
   "execution_count": 27,
   "metadata": {},
   "outputs": [],
   "source": [
    "y_test = test[\"target\"]\n",
    "x_test = test.drop(\"target\", axis=1)\n",
    "x_test = x_test.drop(\"PERCENTILE(target)\", axis=1)"
   ]
  },
  {
   "cell_type": "code",
   "execution_count": 28,
   "metadata": {},
   "outputs": [],
   "source": [
    "model_path = \"./custom_dnn/\"\n",
    "with open(os.path.join(model_path, \"model_sample_dnn2.json\"), \"r\") as file:\n",
    "    model_json = file.read()\n",
    "model = model_from_json(model_json)\n",
    "model.load_weights(os.path.join(model_path, \"model_sample_dnn2_100.h5\"))"
   ]
  },
  {
   "cell_type": "code",
   "execution_count": 29,
   "metadata": {},
   "outputs": [
    {
     "name": "stderr",
     "output_type": "stream",
     "text": [
      "Trying to unpickle estimator StandardScaler from version 0.22.2.post1 when using version 0.22. This might lead to breaking code or invalid results. Use at your own risk.\n"
     ]
    }
   ],
   "source": [
    "scaler_path = os.path.join(model_path, \"scaler_standard_random_fold_0\")\n",
    "with open(scaler_path, \"rb\") as f:\n",
    "    scaler = pickle.load(f)\n",
    "x_test = scaler.transform(x_test)\n",
    "y_test = y_test.values\n",
    "x_test = pd.DataFrame(x_test)"
   ]
  },
  {
   "cell_type": "code",
   "execution_count": 30,
   "metadata": {},
   "outputs": [
    {
     "data": {
      "text/plain": [
       "(99096, 248)"
      ]
     },
     "execution_count": 30,
     "metadata": {},
     "output_type": "execute_result"
    }
   ],
   "source": [
    "x_test.shape"
   ]
  },
  {
   "cell_type": "code",
   "execution_count": 32,
   "metadata": {},
   "outputs": [
    {
     "name": "stdout",
     "output_type": "stream",
     "text": [
      "99096/99096 [==============================] - 2s 24us/sample\n"
     ]
    }
   ],
   "source": [
    "y_pred = model.predict(x_test, verbose = 1, batch_size = 256)"
   ]
  },
  {
   "cell_type": "code",
   "execution_count": 35,
   "metadata": {},
   "outputs": [
    {
     "data": {
      "text/plain": [
       "array([[0.01319913],\n",
       "       [0.24956045],\n",
       "       [0.02635638],\n",
       "       ...,\n",
       "       [0.00564503],\n",
       "       [0.00407052],\n",
       "       [0.00596372]], dtype=float32)"
      ]
     },
     "execution_count": 35,
     "metadata": {},
     "output_type": "execute_result"
    }
   ],
   "source": [
    "y_pred"
   ]
  },
  {
   "cell_type": "code",
   "execution_count": 36,
   "metadata": {},
   "outputs": [],
   "source": [
    "error_df = pd.DataFrame({'y_pred':y_pred.reshape(-1),\n",
    "                        'target':y_test.reshape(-1)})"
   ]
  },
  {
   "cell_type": "code",
   "execution_count": 41,
   "metadata": {},
   "outputs": [
    {
     "data": {
      "text/html": [
       "<div>\n",
       "<style scoped>\n",
       "    .dataframe tbody tr th:only-of-type {\n",
       "        vertical-align: middle;\n",
       "    }\n",
       "\n",
       "    .dataframe tbody tr th {\n",
       "        vertical-align: top;\n",
       "    }\n",
       "\n",
       "    .dataframe thead th {\n",
       "        text-align: right;\n",
       "    }\n",
       "</style>\n",
       "<table border=\"1\" class=\"dataframe\">\n",
       "  <thead>\n",
       "    <tr style=\"text-align: right;\">\n",
       "      <th></th>\n",
       "      <th>y_pred</th>\n",
       "      <th>target</th>\n",
       "    </tr>\n",
       "  </thead>\n",
       "  <tbody>\n",
       "    <tr>\n",
       "      <th>0</th>\n",
       "      <td>0.013199</td>\n",
       "      <td>0.0</td>\n",
       "    </tr>\n",
       "    <tr>\n",
       "      <th>1</th>\n",
       "      <td>0.249560</td>\n",
       "      <td>0.0</td>\n",
       "    </tr>\n",
       "    <tr>\n",
       "      <th>2</th>\n",
       "      <td>0.026356</td>\n",
       "      <td>0.0</td>\n",
       "    </tr>\n",
       "    <tr>\n",
       "      <th>3</th>\n",
       "      <td>0.011090</td>\n",
       "      <td>0.0</td>\n",
       "    </tr>\n",
       "    <tr>\n",
       "      <th>4</th>\n",
       "      <td>0.018239</td>\n",
       "      <td>0.0</td>\n",
       "    </tr>\n",
       "    <tr>\n",
       "      <th>...</th>\n",
       "      <td>...</td>\n",
       "      <td>...</td>\n",
       "    </tr>\n",
       "    <tr>\n",
       "      <th>99091</th>\n",
       "      <td>0.002941</td>\n",
       "      <td>0.0</td>\n",
       "    </tr>\n",
       "    <tr>\n",
       "      <th>99092</th>\n",
       "      <td>0.006866</td>\n",
       "      <td>0.0</td>\n",
       "    </tr>\n",
       "    <tr>\n",
       "      <th>99093</th>\n",
       "      <td>0.005645</td>\n",
       "      <td>0.0</td>\n",
       "    </tr>\n",
       "    <tr>\n",
       "      <th>99094</th>\n",
       "      <td>0.004071</td>\n",
       "      <td>0.0</td>\n",
       "    </tr>\n",
       "    <tr>\n",
       "      <th>99095</th>\n",
       "      <td>0.005964</td>\n",
       "      <td>0.0</td>\n",
       "    </tr>\n",
       "  </tbody>\n",
       "</table>\n",
       "<p>99096 rows × 2 columns</p>\n",
       "</div>"
      ],
      "text/plain": [
       "         y_pred  target\n",
       "0      0.013199     0.0\n",
       "1      0.249560     0.0\n",
       "2      0.026356     0.0\n",
       "3      0.011090     0.0\n",
       "4      0.018239     0.0\n",
       "...         ...     ...\n",
       "99091  0.002941     0.0\n",
       "99092  0.006866     0.0\n",
       "99093  0.005645     0.0\n",
       "99094  0.004071     0.0\n",
       "99095  0.005964     0.0\n",
       "\n",
       "[99096 rows x 2 columns]"
      ]
     },
     "execution_count": 41,
     "metadata": {},
     "output_type": "execute_result"
    }
   ],
   "source": [
    "error_df"
   ]
  },
  {
   "cell_type": "code",
   "execution_count": 42,
   "metadata": {},
   "outputs": [],
   "source": [
    "error_df = error_df.sample(error_df.shape[0])\n",
    "error_df = error_df.reset_index(drop=True)"
   ]
  },
  {
   "cell_type": "code",
   "execution_count": 50,
   "metadata": {},
   "outputs": [],
   "source": [
    "def print_confusion_matrix(ytest, ypred, cut_off):\n",
    "    \"\"\"confusion_matrix 출력 format\n",
    "    \n",
    "    Arguments:\n",
    "        ytest {numpy array} -- label 1 or 0\n",
    "        ypred {numpy array} -- predicted score 0~1\n",
    "        cut_off {int} -- cut off score\n",
    "    \"\"\"\n",
    "    tp,fn,fp,tn = confusion_matrix(ytest,\n",
    "                     ypred>cut_off,\n",
    "                    labels=[1,0]).ravel()\n",
    "    print(format('cut off :','15s'), format(cut_off,'<15.2f'))\n",
    "    print(\"\"\"    {}{}{}\n",
    "    {}{}{}\n",
    "    {}{}{}\n",
    "    \"\"\".format(format('Predict \\\\ True','15s'),format(1,'10.0f'),format(0,'10.0f'),\n",
    "              format('1','>15s'), format(tp,'10.0f'), format(fp,'10.0f'),\n",
    "               format('0','>15s'), format(fn,'10.0f'), format(tn,'10.0f')\n",
    "              ))\n",
    "    recall = tp/(tp+fn)*100 if (tp+fn) != 0 else 0\n",
    "    precision = tp/(tp+fp)*100 if (tp+fp) != 0 else 0\n",
    "    print(format('recall :','15s'),format(recall, '<15.3f'))\n",
    "    print(format('precision :','15s'),format(precision, '<15.3f'))\n",
    "    print(format('f1_score :','15s'),format(2*tp/(2*tp+fp+fn)*100, '<15.3f'))"
   ]
  },
  {
   "cell_type": "code",
   "execution_count": 54,
   "metadata": {},
   "outputs": [
    {
     "name": "stdout",
     "output_type": "stream",
     "text": [
      "cut off :       0.50           \n",
      "    Predict \\ True          1         0\n",
      "                  1       845       269\n",
      "                  0       160     97822\n",
      "    \n",
      "recall :        84.080         \n",
      "precision :     75.853         \n",
      "f1_score :      79.755         \n"
     ]
    }
   ],
   "source": [
    "print_confusion_matrix(error_df.target, error_df.y_pred, cut_off=0.5)"
   ]
  },
  {
   "cell_type": "code",
   "execution_count": 61,
   "metadata": {},
   "outputs": [],
   "source": [
    "import matplotlib.pyplot as plt\n",
    "def visualize_anomaly(error_df, threshold = None):\n",
    "    \"\"\"anomaly graph 출력\n",
    "    \n",
    "    Arguments:\n",
    "        error_df {pandas DataFrame} -- target, y_pred column이 포함된 DataFrame\n",
    "                clss : label\n",
    "                y_pred : 예측된 스코어\n",
    "    \n",
    "    Keyword Arguments:\n",
    "        threshold {int} -- 그래프에 출력될 cut off값, 미지정시 상위 50% 자동  (default: {None})\n",
    "    \"\"\"\n",
    "    if threshold is None:\n",
    "        threshold = error_df[error_df['target'] == 1].y_pred.quantile(q = 0.5) # 95 % higher\n",
    "        print('Generated threshold : {}'.format(threshold))\n",
    "    else:\n",
    "        print('threshold : {}'.format(threshold))\n",
    "    fig, ax = plt.subplots(figsize = (10,6))\n",
    "\n",
    "    for name, group in error_df.groupby('target'):\n",
    "        ax.plot(group.index, group['y_pred'], marker = 'o', linestyle = '', alpha = 0.6, \n",
    "                label = \"Fraud\" if name == 1 else \"Normal\",\n",
    "                color = 'r' if name == 1 else 'royalblue')\n",
    "\n",
    "    ax.hlines(threshold, ax.get_xlim()[0], ax.get_xlim()[1], \n",
    "              colors = 'r', zorder = 100, label = 'Threshold')\n",
    "    ax.legend()"
   ]
  },
  {
   "cell_type": "code",
   "execution_count": 62,
   "metadata": {},
   "outputs": [
    {
     "name": "stdout",
     "output_type": "stream",
     "text": [
      "Generated threshold : 0.9988174080848694\n"
     ]
    },
    {
     "data": {
      "image/png": "[encoded data removed]",
      "text/plain": [
       "<Figure size 720x432 with 1 Axes>"
      ]
     },
     "metadata": {
      "needs_background": "light"
     },
     "output_type": "display_data"
    }
   ],
   "source": [
    "visualize_anomaly(error_df)"
   ]
  },
  {
   "cell_type": "markdown",
   "metadata": {},
   "source": [
    "# LIME"
   ]
  },
  {
   "cell_type": "code",
   "execution_count": 14,
   "metadata": {},
   "outputs": [],
   "source": [
    "col_list = test.drop([\"target\", \"PERCENTILE(target)\"], axis=1).columns.tolist()"
   ]
  },
  {
   "cell_type": "code",
   "execution_count": 65,
   "metadata": {},
   "outputs": [],
   "source": [
    "cate = [\"AGRT_ORGN_ROLE_SE_CD_C\",\"ENPR_CRDT_BAD_YN_N\"]"
   ]
  },
  {
   "cell_type": "code",
   "execution_count": 19,
   "metadata": {},
   "outputs": [],
   "source": [
    "import pandas as pd\n",
    "x_test = pd.DataFrame(x_test)"
   ]
  },
  {
   "cell_type": "code",
   "execution_count": 191,
   "metadata": {},
   "outputs": [],
   "source": [
    "x_test.columns.tolist = col_list"
   ]
  },
  {
   "cell_type": "code",
   "execution_count": 124,
   "metadata": {},
   "outputs": [
    {
     "data": {
      "text/html": [
       "<div>\n",
       "<style scoped>\n",
       "    .dataframe tbody tr th:only-of-type {\n",
       "        vertical-align: middle;\n",
       "    }\n",
       "\n",
       "    .dataframe tbody tr th {\n",
       "        vertical-align: top;\n",
       "    }\n",
       "\n",
       "    .dataframe thead th {\n",
       "        text-align: right;\n",
       "    }\n",
       "</style>\n",
       "<table border=\"1\" class=\"dataframe\">\n",
       "  <thead>\n",
       "    <tr style=\"text-align: right;\">\n",
       "      <th></th>\n",
       "      <th>MEAN(data.PERCENTILE(이체권한_보유자_숫자))</th>\n",
       "      <th>BSTP_NM_Y_2</th>\n",
       "      <th>SPLR_BUCDT_NM_3</th>\n",
       "      <th>MAX(data.PERCENTILE(이체권한_보유자_숫자))</th>\n",
       "      <th>ENPR_SCL_CD_2</th>\n",
       "      <th>AGRT_ORGN_ROLE_SE_CD_D</th>\n",
       "      <th>ORGN_CL_CD_SG5008</th>\n",
       "      <th>EXCT_KIND_SE_CD_B03001</th>\n",
       "      <th>PERCENT_TRUE(data.기관통합관리책임자_보유_여부_Y)</th>\n",
       "      <th>DPTC_ITEPD_CD_B0202049</th>\n",
       "      <th>...</th>\n",
       "      <th>PERCENTILE(USE_SPLY_AMT_log)</th>\n",
       "      <th>HIRK_BSNS_CL_CD_B10055</th>\n",
       "      <th>정밀점검대상여부_Y</th>\n",
       "      <th>PERCENTILE(FPU_SUM_AMT)</th>\n",
       "      <th>ORGN_CL_CD_SG5020</th>\n",
       "      <th>PERCENT_TRUE(data.orgn.AGRT_ORGN_ENPR_SCL_CD_5.0)</th>\n",
       "      <th>MIN(data.BSNS_NM_2)</th>\n",
       "      <th>ENPR_FORM_NM_0</th>\n",
       "      <th>AGRT_ORGN_ROLE_SE_CD_C</th>\n",
       "      <th>ENPR_CRDT_BAD_YN_N</th>\n",
       "    </tr>\n",
       "  </thead>\n",
       "  <tbody>\n",
       "    <tr>\n",
       "      <th>5</th>\n",
       "      <td>0.035276</td>\n",
       "      <td>0.125003</td>\n",
       "      <td>0.625</td>\n",
       "      <td>0.035276</td>\n",
       "      <td>1.0</td>\n",
       "      <td>1.0</td>\n",
       "      <td>1.0</td>\n",
       "      <td>0.0</td>\n",
       "      <td>0.0</td>\n",
       "      <td>0.0</td>\n",
       "      <td>...</td>\n",
       "      <td>0.855629</td>\n",
       "      <td>0.0</td>\n",
       "      <td>0.0</td>\n",
       "      <td>0.846781</td>\n",
       "      <td>0.0</td>\n",
       "      <td>0.0</td>\n",
       "      <td>0.083381</td>\n",
       "      <td>0.130741</td>\n",
       "      <td>0.0</td>\n",
       "      <td>1.0</td>\n",
       "    </tr>\n",
       "    <tr>\n",
       "      <th>9</th>\n",
       "      <td>0.500001</td>\n",
       "      <td>0.125003</td>\n",
       "      <td>0.625</td>\n",
       "      <td>0.500001</td>\n",
       "      <td>1.0</td>\n",
       "      <td>1.0</td>\n",
       "      <td>1.0</td>\n",
       "      <td>0.0</td>\n",
       "      <td>0.0</td>\n",
       "      <td>0.0</td>\n",
       "      <td>...</td>\n",
       "      <td>0.855656</td>\n",
       "      <td>0.0</td>\n",
       "      <td>0.0</td>\n",
       "      <td>0.846801</td>\n",
       "      <td>0.0</td>\n",
       "      <td>0.0</td>\n",
       "      <td>0.190239</td>\n",
       "      <td>0.130740</td>\n",
       "      <td>0.0</td>\n",
       "      <td>1.0</td>\n",
       "    </tr>\n",
       "    <tr>\n",
       "      <th>19</th>\n",
       "      <td>0.466137</td>\n",
       "      <td>0.125001</td>\n",
       "      <td>0.625</td>\n",
       "      <td>0.466137</td>\n",
       "      <td>1.0</td>\n",
       "      <td>0.0</td>\n",
       "      <td>0.0</td>\n",
       "      <td>0.0</td>\n",
       "      <td>0.0</td>\n",
       "      <td>0.0</td>\n",
       "      <td>...</td>\n",
       "      <td>0.941732</td>\n",
       "      <td>0.0</td>\n",
       "      <td>0.0</td>\n",
       "      <td>0.934856</td>\n",
       "      <td>1.0</td>\n",
       "      <td>0.0</td>\n",
       "      <td>0.083381</td>\n",
       "      <td>0.130776</td>\n",
       "      <td>0.0</td>\n",
       "      <td>1.0</td>\n",
       "    </tr>\n",
       "    <tr>\n",
       "      <th>21</th>\n",
       "      <td>0.466137</td>\n",
       "      <td>0.125001</td>\n",
       "      <td>0.625</td>\n",
       "      <td>0.466137</td>\n",
       "      <td>1.0</td>\n",
       "      <td>0.0</td>\n",
       "      <td>0.0</td>\n",
       "      <td>1.0</td>\n",
       "      <td>0.0</td>\n",
       "      <td>0.0</td>\n",
       "      <td>...</td>\n",
       "      <td>0.836192</td>\n",
       "      <td>0.0</td>\n",
       "      <td>0.0</td>\n",
       "      <td>0.827359</td>\n",
       "      <td>1.0</td>\n",
       "      <td>0.0</td>\n",
       "      <td>0.083381</td>\n",
       "      <td>0.130791</td>\n",
       "      <td>0.0</td>\n",
       "      <td>1.0</td>\n",
       "    </tr>\n",
       "    <tr>\n",
       "      <th>25</th>\n",
       "      <td>0.383571</td>\n",
       "      <td>0.125001</td>\n",
       "      <td>0.625</td>\n",
       "      <td>0.383571</td>\n",
       "      <td>1.0</td>\n",
       "      <td>0.0</td>\n",
       "      <td>0.0</td>\n",
       "      <td>0.0</td>\n",
       "      <td>0.0</td>\n",
       "      <td>0.0</td>\n",
       "      <td>...</td>\n",
       "      <td>0.930620</td>\n",
       "      <td>0.0</td>\n",
       "      <td>0.0</td>\n",
       "      <td>0.923426</td>\n",
       "      <td>1.0</td>\n",
       "      <td>0.0</td>\n",
       "      <td>0.083381</td>\n",
       "      <td>0.130777</td>\n",
       "      <td>0.0</td>\n",
       "      <td>1.0</td>\n",
       "    </tr>\n",
       "  </tbody>\n",
       "</table>\n",
       "<p>5 rows × 248 columns</p>\n",
       "</div>"
      ],
      "text/plain": [
       "    MEAN(data.PERCENTILE(이체권한_보유자_숫자))  BSTP_NM_Y_2  SPLR_BUCDT_NM_3  \\\n",
       "5                             0.035276     0.125003            0.625   \n",
       "9                             0.500001     0.125003            0.625   \n",
       "19                            0.466137     0.125001            0.625   \n",
       "21                            0.466137     0.125001            0.625   \n",
       "25                            0.383571     0.125001            0.625   \n",
       "\n",
       "    MAX(data.PERCENTILE(이체권한_보유자_숫자))  ENPR_SCL_CD_2  AGRT_ORGN_ROLE_SE_CD_D  \\\n",
       "5                            0.035276            1.0                     1.0   \n",
       "9                            0.500001            1.0                     1.0   \n",
       "19                           0.466137            1.0                     0.0   \n",
       "21                           0.466137            1.0                     0.0   \n",
       "25                           0.383571            1.0                     0.0   \n",
       "\n",
       "    ORGN_CL_CD_SG5008  EXCT_KIND_SE_CD_B03001  \\\n",
       "5                 1.0                     0.0   \n",
       "9                 1.0                     0.0   \n",
       "19                0.0                     0.0   \n",
       "21                0.0                     1.0   \n",
       "25                0.0                     0.0   \n",
       "\n",
       "    PERCENT_TRUE(data.기관통합관리책임자_보유_여부_Y)  DPTC_ITEPD_CD_B0202049  ...  \\\n",
       "5                                    0.0                     0.0  ...   \n",
       "9                                    0.0                     0.0  ...   \n",
       "19                                   0.0                     0.0  ...   \n",
       "21                                   0.0                     0.0  ...   \n",
       "25                                   0.0                     0.0  ...   \n",
       "\n",
       "    PERCENTILE(USE_SPLY_AMT_log)  HIRK_BSNS_CL_CD_B10055  정밀점검대상여부_Y  \\\n",
       "5                       0.855629                     0.0         0.0   \n",
       "9                       0.855656                     0.0         0.0   \n",
       "19                      0.941732                     0.0         0.0   \n",
       "21                      0.836192                     0.0         0.0   \n",
       "25                      0.930620                     0.0         0.0   \n",
       "\n",
       "    PERCENTILE(FPU_SUM_AMT)  ORGN_CL_CD_SG5020  \\\n",
       "5                  0.846781                0.0   \n",
       "9                  0.846801                0.0   \n",
       "19                 0.934856                1.0   \n",
       "21                 0.827359                1.0   \n",
       "25                 0.923426                1.0   \n",
       "\n",
       "    PERCENT_TRUE(data.orgn.AGRT_ORGN_ENPR_SCL_CD_5.0)  MIN(data.BSNS_NM_2)  \\\n",
       "5                                                 0.0             0.083381   \n",
       "9                                                 0.0             0.190239   \n",
       "19                                                0.0             0.083381   \n",
       "21                                                0.0             0.083381   \n",
       "25                                                0.0             0.083381   \n",
       "\n",
       "    ENPR_FORM_NM_0  AGRT_ORGN_ROLE_SE_CD_C  ENPR_CRDT_BAD_YN_N  \n",
       "5         0.130741                     0.0                 1.0  \n",
       "9         0.130740                     0.0                 1.0  \n",
       "19        0.130776                     0.0                 1.0  \n",
       "21        0.130791                     0.0                 1.0  \n",
       "25        0.130777                     0.0                 1.0  \n",
       "\n",
       "[5 rows x 248 columns]"
      ]
     },
     "execution_count": 124,
     "metadata": {},
     "output_type": "execute_result"
    }
   ],
   "source": [
    "x_test.head()"
   ]
  },
  {
   "cell_type": "code",
   "execution_count": 20,
   "metadata": {},
   "outputs": [],
   "source": [
    "x_test.columns = col_list"
   ]
  },
  {
   "cell_type": "code",
   "execution_count": 1,
   "metadata": {},
   "outputs": [
    {
     "ename": "NameError",
     "evalue": "name 'x_test' is not defined",
     "output_type": "error",
     "traceback": [
      "\u001b[0;31m---------------------------------------------------------------------------\u001b[0m",
      "\u001b[0;31mNameError\u001b[0m                                 Traceback (most recent call last)",
      "\u001b[0;32m<ipython-input-1-06bc9693864b>\u001b[0m in \u001b[0;36m<module>\u001b[0;34m\u001b[0m\n\u001b[0;32m----> 1\u001b[0;31m \u001b[0mx_test\u001b[0m\u001b[0;34m.\u001b[0m\u001b[0mhead\u001b[0m\u001b[0;34m(\u001b[0m\u001b[0;34m)\u001b[0m\u001b[0;34m\u001b[0m\u001b[0;34m\u001b[0m\u001b[0m\n\u001b[0m",
      "\u001b[0;31mNameError\u001b[0m: name 'x_test' is not defined"
     ]
    }
   ],
   "source": [
    "x_test.head()"
   ]
  },
  {
   "cell_type": "code",
   "execution_count": 21,
   "metadata": {},
   "outputs": [],
   "source": [
    "x_test.reset_index(inplace=True)"
   ]
  },
  {
   "cell_type": "code",
   "execution_count": 22,
   "metadata": {},
   "outputs": [],
   "source": [
    "x_test.drop(\"index\", axis=1, inplace=True)"
   ]
  },
  {
   "cell_type": "code",
   "execution_count": 89,
   "metadata": {},
   "outputs": [
    {
     "data": {
      "text/plain": [
       "(99096, 248)"
      ]
     },
     "execution_count": 89,
     "metadata": {},
     "output_type": "execute_result"
    }
   ],
   "source": [
    "np.array(x_test).shape"
   ]
  },
  {
   "cell_type": "code",
   "execution_count": 147,
   "metadata": {},
   "outputs": [
    {
     "data": {
      "text/plain": [
       "(248,)"
      ]
     },
     "execution_count": 147,
     "metadata": {},
     "output_type": "execute_result"
    }
   ],
   "source": [
    "np.array(x_test)[0,:].shape"
   ]
  },
  {
   "cell_type": "code",
   "execution_count": 153,
   "metadata": {},
   "outputs": [
    {
     "data": {
      "text/plain": [
       "0     -1.532677\n",
       "1     -0.146944\n",
       "2      0.564254\n",
       "3     -1.532677\n",
       "4      0.352118\n",
       "         ...   \n",
       "243   -0.770705\n",
       "244   -0.815541\n",
       "245    0.264707\n",
       "246   -1.009249\n",
       "247    0.173383\n",
       "Name: 0, Length: 248, dtype: float64"
      ]
     },
     "execution_count": 153,
     "metadata": {},
     "output_type": "execute_result"
    }
   ],
   "source": [
    "x_test.iloc[0,:]"
   ]
  },
  {
   "cell_type": "code",
   "execution_count": 149,
   "metadata": {},
   "outputs": [
    {
     "ename": "IndexError",
     "evalue": "tuple index out of range",
     "output_type": "error",
     "traceback": [
      "\u001b[1;31m---------------------------------------------------------------------------\u001b[0m",
      "\u001b[1;31mIndexError\u001b[0m                                Traceback (most recent call last)",
      "\u001b[1;32m<ipython-input-149-4e7678755821>\u001b[0m in \u001b[0;36m<module>\u001b[1;34m\u001b[0m\n\u001b[1;32m----> 1\u001b[1;33m \u001b[0mexplainer\u001b[0m \u001b[1;33m=\u001b[0m \u001b[0mlime_tabular\u001b[0m\u001b[1;33m.\u001b[0m\u001b[0mLimeTabularExplainer\u001b[0m\u001b[1;33m(\u001b[0m\u001b[0mnp\u001b[0m\u001b[1;33m.\u001b[0m\u001b[0marray\u001b[0m\u001b[1;33m(\u001b[0m\u001b[0mx_test\u001b[0m\u001b[1;33m)\u001b[0m\u001b[1;33m[\u001b[0m\u001b[1;36m0\u001b[0m\u001b[1;33m]\u001b[0m\u001b[1;33m,\u001b[0m \u001b[0mmode\u001b[0m\u001b[1;33m=\u001b[0m\u001b[1;34m'classification'\u001b[0m\u001b[1;33m,\u001b[0m \u001b[0mfeature_names\u001b[0m\u001b[1;33m=\u001b[0m\u001b[0mcol_list\u001b[0m\u001b[1;33m,\u001b[0m \u001b[0mclass_names\u001b[0m\u001b[1;33m=\u001b[0m\u001b[1;33m[\u001b[0m\u001b[1;34m\"target\"\u001b[0m\u001b[1;33m]\u001b[0m\u001b[1;33m,\u001b[0m \u001b[0mverbose\u001b[0m \u001b[1;33m=\u001b[0m \u001b[1;32mTrue\u001b[0m\u001b[1;33m,\u001b[0m \u001b[0mrandom_state\u001b[0m \u001b[1;33m=\u001b[0m \u001b[1;36m42\u001b[0m\u001b[1;33m)\u001b[0m\u001b[1;33m\u001b[0m\u001b[1;33m\u001b[0m\u001b[0m\n\u001b[0m",
      "\u001b[1;32m~\\Anaconda3\\lib\\site-packages\\lime\\lime_tabular.py\u001b[0m in \u001b[0;36m__init__\u001b[1;34m(self, training_data, mode, training_labels, feature_names, categorical_features, categorical_names, kernel_width, kernel, verbose, class_names, feature_selection, discretize_continuous, discretizer, sample_around_instance, random_state, training_data_stats)\u001b[0m\n\u001b[0;32m    216\u001b[0m                         \u001b[0mtraining_data\u001b[0m\u001b[1;33m,\u001b[0m \u001b[0mself\u001b[0m\u001b[1;33m.\u001b[0m\u001b[0mcategorical_features\u001b[0m\u001b[1;33m,\u001b[0m\u001b[1;33m\u001b[0m\u001b[1;33m\u001b[0m\u001b[0m\n\u001b[0;32m    217\u001b[0m                         \u001b[0mself\u001b[0m\u001b[1;33m.\u001b[0m\u001b[0mfeature_names\u001b[0m\u001b[1;33m,\u001b[0m \u001b[0mlabels\u001b[0m\u001b[1;33m=\u001b[0m\u001b[0mtraining_labels\u001b[0m\u001b[1;33m,\u001b[0m\u001b[1;33m\u001b[0m\u001b[1;33m\u001b[0m\u001b[0m\n\u001b[1;32m--> 218\u001b[1;33m                         random_state=self.random_state)\n\u001b[0m\u001b[0;32m    219\u001b[0m             \u001b[1;32melif\u001b[0m \u001b[0mdiscretizer\u001b[0m \u001b[1;33m==\u001b[0m \u001b[1;34m'decile'\u001b[0m\u001b[1;33m:\u001b[0m\u001b[1;33m\u001b[0m\u001b[1;33m\u001b[0m\u001b[0m\n\u001b[0;32m    220\u001b[0m                 self.discretizer = DecileDiscretizer(\n",
      "\u001b[1;32m~\\Anaconda3\\lib\\site-packages\\lime\\discretize.py\u001b[0m in \u001b[0;36m__init__\u001b[1;34m(self, data, categorical_features, feature_names, labels, random_state)\u001b[0m\n\u001b[0;32m    178\u001b[0m         BaseDiscretizer.__init__(self, data, categorical_features,\n\u001b[0;32m    179\u001b[0m                                  \u001b[0mfeature_names\u001b[0m\u001b[1;33m,\u001b[0m \u001b[0mlabels\u001b[0m\u001b[1;33m=\u001b[0m\u001b[0mlabels\u001b[0m\u001b[1;33m,\u001b[0m\u001b[1;33m\u001b[0m\u001b[1;33m\u001b[0m\u001b[0m\n\u001b[1;32m--> 180\u001b[1;33m                                  random_state=random_state)\n\u001b[0m\u001b[0;32m    181\u001b[0m \u001b[1;33m\u001b[0m\u001b[0m\n\u001b[0;32m    182\u001b[0m     \u001b[1;32mdef\u001b[0m \u001b[0mbins\u001b[0m\u001b[1;33m(\u001b[0m\u001b[0mself\u001b[0m\u001b[1;33m,\u001b[0m \u001b[0mdata\u001b[0m\u001b[1;33m,\u001b[0m \u001b[0mlabels\u001b[0m\u001b[1;33m)\u001b[0m\u001b[1;33m:\u001b[0m\u001b[1;33m\u001b[0m\u001b[1;33m\u001b[0m\u001b[0m\n",
      "\u001b[1;32m~\\Anaconda3\\lib\\site-packages\\lime\\discretize.py\u001b[0m in \u001b[0;36m__init__\u001b[1;34m(self, data, categorical_features, feature_names, labels, random_state, data_stats)\u001b[0m\n\u001b[0;32m     37\u001b[0m                 \u001b[1;32mif\u001b[0m \u001b[0myou\u001b[0m \u001b[0mdon\u001b[0m\u001b[0;31m'\u001b[0m\u001b[0mt\u001b[0m \u001b[0mwant\u001b[0m \u001b[0mthese\u001b[0m \u001b[0mvalues\u001b[0m \u001b[0mto\u001b[0m \u001b[0mbe\u001b[0m \u001b[0mcomputed\u001b[0m \u001b[1;32mfrom\u001b[0m \u001b[0mdata\u001b[0m\u001b[1;33m\u001b[0m\u001b[1;33m\u001b[0m\u001b[0m\n\u001b[0;32m     38\u001b[0m         \"\"\"\n\u001b[1;32m---> 39\u001b[1;33m         self.to_discretize = ([x for x in range(data.shape[1])\n\u001b[0m\u001b[0;32m     40\u001b[0m                                if x not in categorical_features])\n\u001b[0;32m     41\u001b[0m         \u001b[0mself\u001b[0m\u001b[1;33m.\u001b[0m\u001b[0mdata_stats\u001b[0m \u001b[1;33m=\u001b[0m \u001b[0mdata_stats\u001b[0m\u001b[1;33m\u001b[0m\u001b[1;33m\u001b[0m\u001b[0m\n",
      "\u001b[1;31mIndexError\u001b[0m: tuple index out of range"
     ]
    }
   ],
   "source": [
    "explainer = lime_tabular.LimeTabularExplainer(np.array(x_test)[0], mode='classification', feature_names=col_list, class_names=[\"target\"], verbose = True, random_state = 42)"
   ]
  },
  {
   "cell_type": "code",
   "execution_count": 135,
   "metadata": {},
   "outputs": [
    {
     "data": {
      "text/plain": [
       "MEAN(data.PERCENTILE(이체권한_보유자_숫자))                   0.500001\n",
       "BSTP_NM_Y_2                                          0.125003\n",
       "SPLR_BUCDT_NM_3                                      0.625000\n",
       "MAX(data.PERCENTILE(이체권한_보유자_숫자))                    0.500001\n",
       "ENPR_SCL_CD_2                                        1.000000\n",
       "                                                       ...   \n",
       "PERCENT_TRUE(data.orgn.AGRT_ORGN_ENPR_SCL_CD_5.0)    0.000000\n",
       "MIN(data.BSNS_NM_2)                                  0.190239\n",
       "ENPR_FORM_NM_0                                       0.130740\n",
       "AGRT_ORGN_ROLE_SE_CD_C                               0.000000\n",
       "ENPR_CRDT_BAD_YN_N                                   1.000000\n",
       "Name: 1, Length: 248, dtype: float64"
      ]
     },
     "execution_count": 135,
     "metadata": {},
     "output_type": "execute_result"
    }
   ],
   "source": [
    "x_test.loc[1]"
   ]
  },
  {
   "cell_type": "code",
   "execution_count": 139,
   "metadata": {},
   "outputs": [],
   "source": [
    "def predict(inputs):\n",
    "#     print(inputs.shape)\n",
    "#     inputs = inputs.reshape(1, -1)\n",
    "#     print(inputs.shape)\n",
    "    pred = model.predict(inputs).reshape(-1)\n",
    "    return np.array(list(zip(pred, 1-pred)))"
   ]
  },
  {
   "cell_type": "code",
   "execution_count": 140,
   "metadata": {},
   "outputs": [
    {
     "name": "stdout",
     "output_type": "stream",
     "text": [
      "(248,)\n",
      "(1, 248)\n"
     ]
    },
    {
     "data": {
      "text/plain": [
       "array([[0.01319912, 0.9868009 ]], dtype=float32)"
      ]
     },
     "execution_count": 140,
     "metadata": {},
     "output_type": "execute_result"
    }
   ],
   "source": [
    "predict(x_test[0].reshape(1,-1))"
   ]
  },
  {
   "cell_type": "code",
   "execution_count": 98,
   "metadata": {},
   "outputs": [
    {
     "data": {
      "text/html": [
       "<div>\n",
       "<style scoped>\n",
       "    .dataframe tbody tr th:only-of-type {\n",
       "        vertical-align: middle;\n",
       "    }\n",
       "\n",
       "    .dataframe tbody tr th {\n",
       "        vertical-align: top;\n",
       "    }\n",
       "\n",
       "    .dataframe thead th {\n",
       "        text-align: right;\n",
       "    }\n",
       "</style>\n",
       "<table border=\"1\" class=\"dataframe\">\n",
       "  <thead>\n",
       "    <tr style=\"text-align: right;\">\n",
       "      <th></th>\n",
       "      <th>0</th>\n",
       "      <th>1</th>\n",
       "      <th>2</th>\n",
       "      <th>3</th>\n",
       "      <th>4</th>\n",
       "      <th>5</th>\n",
       "      <th>6</th>\n",
       "      <th>7</th>\n",
       "      <th>8</th>\n",
       "      <th>9</th>\n",
       "      <th>...</th>\n",
       "      <th>238</th>\n",
       "      <th>239</th>\n",
       "      <th>240</th>\n",
       "      <th>241</th>\n",
       "      <th>242</th>\n",
       "      <th>243</th>\n",
       "      <th>244</th>\n",
       "      <th>245</th>\n",
       "      <th>246</th>\n",
       "      <th>247</th>\n",
       "    </tr>\n",
       "  </thead>\n",
       "  <tbody>\n",
       "    <tr>\n",
       "      <th>0</th>\n",
       "      <td>-1.532677</td>\n",
       "      <td>-0.146944</td>\n",
       "      <td>0.564254</td>\n",
       "      <td>-1.532677</td>\n",
       "      <td>0.352118</td>\n",
       "      <td>2.116020</td>\n",
       "      <td>1.363896</td>\n",
       "      <td>-0.525965</td>\n",
       "      <td>-0.510265</td>\n",
       "      <td>-0.173256</td>\n",
       "      <td>...</td>\n",
       "      <td>1.150644</td>\n",
       "      <td>-0.117042</td>\n",
       "      <td>-0.131644</td>\n",
       "      <td>1.120576</td>\n",
       "      <td>-0.217320</td>\n",
       "      <td>-0.770705</td>\n",
       "      <td>-0.815541</td>\n",
       "      <td>0.264707</td>\n",
       "      <td>-1.009249</td>\n",
       "      <td>0.173383</td>\n",
       "    </tr>\n",
       "    <tr>\n",
       "      <th>1</th>\n",
       "      <td>0.325940</td>\n",
       "      <td>-0.146944</td>\n",
       "      <td>0.564254</td>\n",
       "      <td>0.325940</td>\n",
       "      <td>0.352118</td>\n",
       "      <td>2.116020</td>\n",
       "      <td>1.363896</td>\n",
       "      <td>-0.525965</td>\n",
       "      <td>-0.510265</td>\n",
       "      <td>-0.173256</td>\n",
       "      <td>...</td>\n",
       "      <td>1.150740</td>\n",
       "      <td>-0.117042</td>\n",
       "      <td>-0.131644</td>\n",
       "      <td>1.120647</td>\n",
       "      <td>-0.217320</td>\n",
       "      <td>-0.770705</td>\n",
       "      <td>0.031216</td>\n",
       "      <td>0.264625</td>\n",
       "      <td>-1.009249</td>\n",
       "      <td>0.173383</td>\n",
       "    </tr>\n",
       "    <tr>\n",
       "      <th>2</th>\n",
       "      <td>0.190502</td>\n",
       "      <td>-0.146989</td>\n",
       "      <td>0.564254</td>\n",
       "      <td>0.190502</td>\n",
       "      <td>0.352118</td>\n",
       "      <td>-0.506237</td>\n",
       "      <td>-0.761236</td>\n",
       "      <td>-0.525965</td>\n",
       "      <td>-0.510265</td>\n",
       "      <td>-0.173256</td>\n",
       "      <td>...</td>\n",
       "      <td>1.452727</td>\n",
       "      <td>-0.117042</td>\n",
       "      <td>-0.131644</td>\n",
       "      <td>1.429593</td>\n",
       "      <td>4.748215</td>\n",
       "      <td>-0.770705</td>\n",
       "      <td>-0.815541</td>\n",
       "      <td>0.268135</td>\n",
       "      <td>-1.009249</td>\n",
       "      <td>0.173383</td>\n",
       "    </tr>\n",
       "    <tr>\n",
       "      <th>3</th>\n",
       "      <td>0.190502</td>\n",
       "      <td>-0.146989</td>\n",
       "      <td>0.564254</td>\n",
       "      <td>0.190502</td>\n",
       "      <td>0.352118</td>\n",
       "      <td>-0.506237</td>\n",
       "      <td>-0.761236</td>\n",
       "      <td>2.033370</td>\n",
       "      <td>-0.510265</td>\n",
       "      <td>-0.173256</td>\n",
       "      <td>...</td>\n",
       "      <td>1.082451</td>\n",
       "      <td>-0.117042</td>\n",
       "      <td>-0.131644</td>\n",
       "      <td>1.052432</td>\n",
       "      <td>4.748215</td>\n",
       "      <td>-0.770705</td>\n",
       "      <td>-0.815541</td>\n",
       "      <td>0.269618</td>\n",
       "      <td>-1.009249</td>\n",
       "      <td>0.173383</td>\n",
       "    </tr>\n",
       "    <tr>\n",
       "      <th>4</th>\n",
       "      <td>-0.139710</td>\n",
       "      <td>-0.146989</td>\n",
       "      <td>0.564254</td>\n",
       "      <td>-0.139710</td>\n",
       "      <td>0.352118</td>\n",
       "      <td>-0.506237</td>\n",
       "      <td>-0.761236</td>\n",
       "      <td>-0.525965</td>\n",
       "      <td>-0.510265</td>\n",
       "      <td>-0.173256</td>\n",
       "      <td>...</td>\n",
       "      <td>1.413742</td>\n",
       "      <td>-0.117042</td>\n",
       "      <td>-0.131644</td>\n",
       "      <td>1.389491</td>\n",
       "      <td>4.748215</td>\n",
       "      <td>-0.770705</td>\n",
       "      <td>-0.815541</td>\n",
       "      <td>0.268287</td>\n",
       "      <td>-1.009249</td>\n",
       "      <td>0.173383</td>\n",
       "    </tr>\n",
       "  </tbody>\n",
       "</table>\n",
       "<p>5 rows × 248 columns</p>\n",
       "</div>"
      ],
      "text/plain": [
       "        0         1         2         3         4         5         6    \\\n",
       "0 -1.532677 -0.146944  0.564254 -1.532677  0.352118  2.116020  1.363896   \n",
       "1  0.325940 -0.146944  0.564254  0.325940  0.352118  2.116020  1.363896   \n",
       "2  0.190502 -0.146989  0.564254  0.190502  0.352118 -0.506237 -0.761236   \n",
       "3  0.190502 -0.146989  0.564254  0.190502  0.352118 -0.506237 -0.761236   \n",
       "4 -0.139710 -0.146989  0.564254 -0.139710  0.352118 -0.506237 -0.761236   \n",
       "\n",
       "        7         8         9    ...       238       239       240       241  \\\n",
       "0 -0.525965 -0.510265 -0.173256  ...  1.150644 -0.117042 -0.131644  1.120576   \n",
       "1 -0.525965 -0.510265 -0.173256  ...  1.150740 -0.117042 -0.131644  1.120647   \n",
       "2 -0.525965 -0.510265 -0.173256  ...  1.452727 -0.117042 -0.131644  1.429593   \n",
       "3  2.033370 -0.510265 -0.173256  ...  1.082451 -0.117042 -0.131644  1.052432   \n",
       "4 -0.525965 -0.510265 -0.173256  ...  1.413742 -0.117042 -0.131644  1.389491   \n",
       "\n",
       "        242       243       244       245       246       247  \n",
       "0 -0.217320 -0.770705 -0.815541  0.264707 -1.009249  0.173383  \n",
       "1 -0.217320 -0.770705  0.031216  0.264625 -1.009249  0.173383  \n",
       "2  4.748215 -0.770705 -0.815541  0.268135 -1.009249  0.173383  \n",
       "3  4.748215 -0.770705 -0.815541  0.269618 -1.009249  0.173383  \n",
       "4  4.748215 -0.770705 -0.815541  0.268287 -1.009249  0.173383  \n",
       "\n",
       "[5 rows x 248 columns]"
      ]
     },
     "execution_count": 98,
     "metadata": {},
     "output_type": "execute_result"
    }
   ],
   "source": [
    "x_test.head()"
   ]
  },
  {
   "cell_type": "code",
   "execution_count": null,
   "metadata": {},
   "outputs": [],
   "source": [
    "# 사고 데이터 index\n",
    "np.where(y_test == 1)"
   ]
  },
  {
   "cell_type": "code",
   "execution_count": null,
   "metadata": {},
   "outputs": [],
   "source": [
    "# 위 실행하고 아래 index 골라서 확인\n",
    "idx = "
   ]
  },
  {
   "cell_type": "code",
   "execution_count": 104,
   "metadata": {},
   "outputs": [
    {
     "data": {
      "text/plain": [
       "(248,)"
      ]
     },
     "execution_count": 104,
     "metadata": {},
     "output_type": "execute_result"
    }
   ],
   "source": [
    "x_test.loc[1].values.shape"
   ]
  },
  {
   "cell_type": "code",
   "execution_count": 141,
   "metadata": {},
   "outputs": [
    {
     "data": {
      "text/plain": [
       "(248,)"
      ]
     },
     "execution_count": 141,
     "metadata": {},
     "output_type": "execute_result"
    }
   ],
   "source": [
    "tmp_x = x_test.iloc[0].values\n",
    "tmp_x.shape"
   ]
  },
  {
   "cell_type": "code",
   "execution_count": 142,
   "metadata": {},
   "outputs": [
    {
     "name": "stdout",
     "output_type": "stream",
     "text": [
      "(5000, 248)\n",
      "(1, 1240000)\n"
     ]
    },
    {
     "ename": "ValueError",
     "evalue": "Error when checking input: expected input_1 to have shape (248,) but got array with shape (1240000,)",
     "output_type": "error",
     "traceback": [
      "\u001b[1;31m---------------------------------------------------------------------------\u001b[0m",
      "\u001b[1;31mValueError\u001b[0m                                Traceback (most recent call last)",
      "\u001b[1;32m<ipython-input-142-099fde2fbf77>\u001b[0m in \u001b[0;36m<module>\u001b[1;34m\u001b[0m\n\u001b[1;32m----> 1\u001b[1;33m \u001b[0mexplainer\u001b[0m\u001b[1;33m.\u001b[0m\u001b[0mexplain_instance\u001b[0m\u001b[1;33m(\u001b[0m\u001b[0mtmp_x\u001b[0m\u001b[1;33m,\u001b[0m \u001b[0mpredict\u001b[0m\u001b[1;33m)\u001b[0m\u001b[1;33m.\u001b[0m\u001b[0mshow_in_notebook\u001b[0m\u001b[1;33m(\u001b[0m\u001b[0mshow_table\u001b[0m \u001b[1;33m=\u001b[0m \u001b[1;32mTrue\u001b[0m\u001b[1;33m)\u001b[0m\u001b[1;33m\u001b[0m\u001b[1;33m\u001b[0m\u001b[0m\n\u001b[0m",
      "\u001b[1;32m~\\Anaconda3\\lib\\site-packages\\lime\\lime_tabular.py\u001b[0m in \u001b[0;36mexplain_instance\u001b[1;34m(self, data_row, predict_fn, labels, top_labels, num_features, num_samples, distance_metric, model_regressor)\u001b[0m\n\u001b[0;32m    353\u001b[0m         ).ravel()\n\u001b[0;32m    354\u001b[0m \u001b[1;33m\u001b[0m\u001b[0m\n\u001b[1;32m--> 355\u001b[1;33m         \u001b[0myss\u001b[0m \u001b[1;33m=\u001b[0m \u001b[0mpredict_fn\u001b[0m\u001b[1;33m(\u001b[0m\u001b[0minverse\u001b[0m\u001b[1;33m)\u001b[0m\u001b[1;33m\u001b[0m\u001b[1;33m\u001b[0m\u001b[0m\n\u001b[0m\u001b[0;32m    356\u001b[0m \u001b[1;33m\u001b[0m\u001b[0m\n\u001b[0;32m    357\u001b[0m         \u001b[1;31m# for classification, the model needs to provide a list of tuples - classes\u001b[0m\u001b[1;33m\u001b[0m\u001b[1;33m\u001b[0m\u001b[1;33m\u001b[0m\u001b[0m\n",
      "\u001b[1;32m<ipython-input-139-f64ce21d4d32>\u001b[0m in \u001b[0;36mpredict\u001b[1;34m(inputs)\u001b[0m\n\u001b[0;32m      3\u001b[0m     \u001b[0minputs\u001b[0m \u001b[1;33m=\u001b[0m \u001b[0minputs\u001b[0m\u001b[1;33m.\u001b[0m\u001b[0mreshape\u001b[0m\u001b[1;33m(\u001b[0m\u001b[1;36m1\u001b[0m\u001b[1;33m,\u001b[0m \u001b[1;33m-\u001b[0m\u001b[1;36m1\u001b[0m\u001b[1;33m)\u001b[0m\u001b[1;33m\u001b[0m\u001b[1;33m\u001b[0m\u001b[0m\n\u001b[0;32m      4\u001b[0m     \u001b[0mprint\u001b[0m\u001b[1;33m(\u001b[0m\u001b[0minputs\u001b[0m\u001b[1;33m.\u001b[0m\u001b[0mshape\u001b[0m\u001b[1;33m)\u001b[0m\u001b[1;33m\u001b[0m\u001b[1;33m\u001b[0m\u001b[0m\n\u001b[1;32m----> 5\u001b[1;33m     \u001b[0mpred\u001b[0m \u001b[1;33m=\u001b[0m \u001b[0mmodel\u001b[0m\u001b[1;33m.\u001b[0m\u001b[0mpredict\u001b[0m\u001b[1;33m(\u001b[0m\u001b[0minputs\u001b[0m\u001b[1;33m)\u001b[0m\u001b[1;33m.\u001b[0m\u001b[0mreshape\u001b[0m\u001b[1;33m(\u001b[0m\u001b[1;33m-\u001b[0m\u001b[1;36m1\u001b[0m\u001b[1;33m)\u001b[0m\u001b[1;33m\u001b[0m\u001b[1;33m\u001b[0m\u001b[0m\n\u001b[0m\u001b[0;32m      6\u001b[0m     \u001b[1;32mreturn\u001b[0m \u001b[0mnp\u001b[0m\u001b[1;33m.\u001b[0m\u001b[0marray\u001b[0m\u001b[1;33m(\u001b[0m\u001b[0mlist\u001b[0m\u001b[1;33m(\u001b[0m\u001b[0mzip\u001b[0m\u001b[1;33m(\u001b[0m\u001b[0mpred\u001b[0m\u001b[1;33m,\u001b[0m \u001b[1;36m1\u001b[0m\u001b[1;33m-\u001b[0m\u001b[0mpred\u001b[0m\u001b[1;33m)\u001b[0m\u001b[1;33m)\u001b[0m\u001b[1;33m)\u001b[0m\u001b[1;33m\u001b[0m\u001b[1;33m\u001b[0m\u001b[0m\n",
      "\u001b[1;32m~\\Anaconda3\\lib\\site-packages\\tensorflow_core\\python\\keras\\engine\\training.py\u001b[0m in \u001b[0;36mpredict\u001b[1;34m(self, x, batch_size, verbose, steps, callbacks, max_queue_size, workers, use_multiprocessing)\u001b[0m\n\u001b[0;32m   1011\u001b[0m         \u001b[0mmax_queue_size\u001b[0m\u001b[1;33m=\u001b[0m\u001b[0mmax_queue_size\u001b[0m\u001b[1;33m,\u001b[0m\u001b[1;33m\u001b[0m\u001b[1;33m\u001b[0m\u001b[0m\n\u001b[0;32m   1012\u001b[0m         \u001b[0mworkers\u001b[0m\u001b[1;33m=\u001b[0m\u001b[0mworkers\u001b[0m\u001b[1;33m,\u001b[0m\u001b[1;33m\u001b[0m\u001b[1;33m\u001b[0m\u001b[0m\n\u001b[1;32m-> 1013\u001b[1;33m         use_multiprocessing=use_multiprocessing)\n\u001b[0m\u001b[0;32m   1014\u001b[0m \u001b[1;33m\u001b[0m\u001b[0m\n\u001b[0;32m   1015\u001b[0m   \u001b[1;32mdef\u001b[0m \u001b[0mreset_metrics\u001b[0m\u001b[1;33m(\u001b[0m\u001b[0mself\u001b[0m\u001b[1;33m)\u001b[0m\u001b[1;33m:\u001b[0m\u001b[1;33m\u001b[0m\u001b[1;33m\u001b[0m\u001b[0m\n",
      "\u001b[1;32m~\\Anaconda3\\lib\\site-packages\\tensorflow_core\\python\\keras\\engine\\training_v2.py\u001b[0m in \u001b[0;36mpredict\u001b[1;34m(self, model, x, batch_size, verbose, steps, callbacks, max_queue_size, workers, use_multiprocessing, **kwargs)\u001b[0m\n\u001b[0;32m    496\u001b[0m         \u001b[0mmodel\u001b[0m\u001b[1;33m,\u001b[0m \u001b[0mModeKeys\u001b[0m\u001b[1;33m.\u001b[0m\u001b[0mPREDICT\u001b[0m\u001b[1;33m,\u001b[0m \u001b[0mx\u001b[0m\u001b[1;33m=\u001b[0m\u001b[0mx\u001b[0m\u001b[1;33m,\u001b[0m \u001b[0mbatch_size\u001b[0m\u001b[1;33m=\u001b[0m\u001b[0mbatch_size\u001b[0m\u001b[1;33m,\u001b[0m \u001b[0mverbose\u001b[0m\u001b[1;33m=\u001b[0m\u001b[0mverbose\u001b[0m\u001b[1;33m,\u001b[0m\u001b[1;33m\u001b[0m\u001b[1;33m\u001b[0m\u001b[0m\n\u001b[0;32m    497\u001b[0m         \u001b[0msteps\u001b[0m\u001b[1;33m=\u001b[0m\u001b[0msteps\u001b[0m\u001b[1;33m,\u001b[0m \u001b[0mcallbacks\u001b[0m\u001b[1;33m=\u001b[0m\u001b[0mcallbacks\u001b[0m\u001b[1;33m,\u001b[0m \u001b[0mmax_queue_size\u001b[0m\u001b[1;33m=\u001b[0m\u001b[0mmax_queue_size\u001b[0m\u001b[1;33m,\u001b[0m\u001b[1;33m\u001b[0m\u001b[1;33m\u001b[0m\u001b[0m\n\u001b[1;32m--> 498\u001b[1;33m         workers=workers, use_multiprocessing=use_multiprocessing, **kwargs)\n\u001b[0m\u001b[0;32m    499\u001b[0m \u001b[1;33m\u001b[0m\u001b[0m\n\u001b[0;32m    500\u001b[0m \u001b[1;33m\u001b[0m\u001b[0m\n",
      "\u001b[1;32m~\\Anaconda3\\lib\\site-packages\\tensorflow_core\\python\\keras\\engine\\training_v2.py\u001b[0m in \u001b[0;36m_model_iteration\u001b[1;34m(self, model, mode, x, y, batch_size, verbose, sample_weight, steps, callbacks, max_queue_size, workers, use_multiprocessing, **kwargs)\u001b[0m\n\u001b[0;32m    424\u001b[0m           \u001b[0mmax_queue_size\u001b[0m\u001b[1;33m=\u001b[0m\u001b[0mmax_queue_size\u001b[0m\u001b[1;33m,\u001b[0m\u001b[1;33m\u001b[0m\u001b[1;33m\u001b[0m\u001b[0m\n\u001b[0;32m    425\u001b[0m           \u001b[0mworkers\u001b[0m\u001b[1;33m=\u001b[0m\u001b[0mworkers\u001b[0m\u001b[1;33m,\u001b[0m\u001b[1;33m\u001b[0m\u001b[1;33m\u001b[0m\u001b[0m\n\u001b[1;32m--> 426\u001b[1;33m           use_multiprocessing=use_multiprocessing)\n\u001b[0m\u001b[0;32m    427\u001b[0m       \u001b[0mtotal_samples\u001b[0m \u001b[1;33m=\u001b[0m \u001b[0m_get_total_number_of_samples\u001b[0m\u001b[1;33m(\u001b[0m\u001b[0madapter\u001b[0m\u001b[1;33m)\u001b[0m\u001b[1;33m\u001b[0m\u001b[1;33m\u001b[0m\u001b[0m\n\u001b[0;32m    428\u001b[0m       \u001b[0muse_sample\u001b[0m \u001b[1;33m=\u001b[0m \u001b[0mtotal_samples\u001b[0m \u001b[1;32mis\u001b[0m \u001b[1;32mnot\u001b[0m \u001b[1;32mNone\u001b[0m\u001b[1;33m\u001b[0m\u001b[1;33m\u001b[0m\u001b[0m\n",
      "\u001b[1;32m~\\Anaconda3\\lib\\site-packages\\tensorflow_core\\python\\keras\\engine\\training_v2.py\u001b[0m in \u001b[0;36m_process_inputs\u001b[1;34m(model, mode, x, y, batch_size, epochs, sample_weights, class_weights, shuffle, steps, distribution_strategy, max_queue_size, workers, use_multiprocessing)\u001b[0m\n\u001b[0;32m    644\u001b[0m     \u001b[0mstandardize_function\u001b[0m \u001b[1;33m=\u001b[0m \u001b[1;32mNone\u001b[0m\u001b[1;33m\u001b[0m\u001b[1;33m\u001b[0m\u001b[0m\n\u001b[0;32m    645\u001b[0m     x, y, sample_weights = standardize(\n\u001b[1;32m--> 646\u001b[1;33m         x, y, sample_weight=sample_weights)\n\u001b[0m\u001b[0;32m    647\u001b[0m   \u001b[1;32melif\u001b[0m \u001b[0madapter_cls\u001b[0m \u001b[1;32mis\u001b[0m \u001b[0mdata_adapter\u001b[0m\u001b[1;33m.\u001b[0m\u001b[0mListsOfScalarsDataAdapter\u001b[0m\u001b[1;33m:\u001b[0m\u001b[1;33m\u001b[0m\u001b[1;33m\u001b[0m\u001b[0m\n\u001b[0;32m    648\u001b[0m     \u001b[0mstandardize_function\u001b[0m \u001b[1;33m=\u001b[0m \u001b[0mstandardize\u001b[0m\u001b[1;33m\u001b[0m\u001b[1;33m\u001b[0m\u001b[0m\n",
      "\u001b[1;32m~\\Anaconda3\\lib\\site-packages\\tensorflow_core\\python\\keras\\engine\\training.py\u001b[0m in \u001b[0;36m_standardize_user_data\u001b[1;34m(self, x, y, sample_weight, class_weight, batch_size, check_steps, steps_name, steps, validation_split, shuffle, extract_tensors_from_dataset)\u001b[0m\n\u001b[0;32m   2381\u001b[0m         \u001b[0mis_dataset\u001b[0m\u001b[1;33m=\u001b[0m\u001b[0mis_dataset\u001b[0m\u001b[1;33m,\u001b[0m\u001b[1;33m\u001b[0m\u001b[1;33m\u001b[0m\u001b[0m\n\u001b[0;32m   2382\u001b[0m         \u001b[0mclass_weight\u001b[0m\u001b[1;33m=\u001b[0m\u001b[0mclass_weight\u001b[0m\u001b[1;33m,\u001b[0m\u001b[1;33m\u001b[0m\u001b[1;33m\u001b[0m\u001b[0m\n\u001b[1;32m-> 2383\u001b[1;33m         batch_size=batch_size)\n\u001b[0m\u001b[0;32m   2384\u001b[0m \u001b[1;33m\u001b[0m\u001b[0m\n\u001b[0;32m   2385\u001b[0m   def _standardize_tensors(self, x, y, sample_weight, run_eagerly, dict_inputs,\n",
      "\u001b[1;32m~\\Anaconda3\\lib\\site-packages\\tensorflow_core\\python\\keras\\engine\\training.py\u001b[0m in \u001b[0;36m_standardize_tensors\u001b[1;34m(self, x, y, sample_weight, run_eagerly, dict_inputs, is_dataset, class_weight, batch_size)\u001b[0m\n\u001b[0;32m   2408\u001b[0m           \u001b[0mfeed_input_shapes\u001b[0m\u001b[1;33m,\u001b[0m\u001b[1;33m\u001b[0m\u001b[1;33m\u001b[0m\u001b[0m\n\u001b[0;32m   2409\u001b[0m           \u001b[0mcheck_batch_axis\u001b[0m\u001b[1;33m=\u001b[0m\u001b[1;32mFalse\u001b[0m\u001b[1;33m,\u001b[0m  \u001b[1;31m# Don't enforce the batch size.\u001b[0m\u001b[1;33m\u001b[0m\u001b[1;33m\u001b[0m\u001b[0m\n\u001b[1;32m-> 2410\u001b[1;33m           exception_prefix='input')\n\u001b[0m\u001b[0;32m   2411\u001b[0m \u001b[1;33m\u001b[0m\u001b[0m\n\u001b[0;32m   2412\u001b[0m     \u001b[1;31m# Get typespecs for the input data and sanitize it if necessary.\u001b[0m\u001b[1;33m\u001b[0m\u001b[1;33m\u001b[0m\u001b[1;33m\u001b[0m\u001b[0m\n",
      "\u001b[1;32m~\\Anaconda3\\lib\\site-packages\\tensorflow_core\\python\\keras\\engine\\training_utils.py\u001b[0m in \u001b[0;36mstandardize_input_data\u001b[1;34m(data, names, shapes, check_batch_axis, exception_prefix)\u001b[0m\n\u001b[0;32m    580\u001b[0m                              \u001b[1;34m': expected '\u001b[0m \u001b[1;33m+\u001b[0m \u001b[0mnames\u001b[0m\u001b[1;33m[\u001b[0m\u001b[0mi\u001b[0m\u001b[1;33m]\u001b[0m \u001b[1;33m+\u001b[0m \u001b[1;34m' to have shape '\u001b[0m \u001b[1;33m+\u001b[0m\u001b[1;33m\u001b[0m\u001b[1;33m\u001b[0m\u001b[0m\n\u001b[0;32m    581\u001b[0m                              \u001b[0mstr\u001b[0m\u001b[1;33m(\u001b[0m\u001b[0mshape\u001b[0m\u001b[1;33m)\u001b[0m \u001b[1;33m+\u001b[0m \u001b[1;34m' but got array with shape '\u001b[0m \u001b[1;33m+\u001b[0m\u001b[1;33m\u001b[0m\u001b[1;33m\u001b[0m\u001b[0m\n\u001b[1;32m--> 582\u001b[1;33m                              str(data_shape))\n\u001b[0m\u001b[0;32m    583\u001b[0m   \u001b[1;32mreturn\u001b[0m \u001b[0mdata\u001b[0m\u001b[1;33m\u001b[0m\u001b[1;33m\u001b[0m\u001b[0m\n\u001b[0;32m    584\u001b[0m \u001b[1;33m\u001b[0m\u001b[0m\n",
      "\u001b[1;31mValueError\u001b[0m: Error when checking input: expected input_1 to have shape (248,) but got array with shape (1240000,)"
     ]
    }
   ],
   "source": [
    "expm = explainer.explain_instance(data[idx], predict)\n",
    "expm.show_in_notebook(show_table = True)"
   ]
  },
  {
   "cell_type": "code",
   "execution_count": 17,
   "metadata": {},
   "outputs": [],
   "source": [
    "lime_tabular.LimeTabularExplainer?"
   ]
  }
 ],
 "metadata": {
  "kernelspec": {
   "display_name": "keit",
   "language": "python",
   "name": "keit"
  },
  "language_info": {
   "codemirror_mode": {
    "name": "ipython",
    "version": 3
   },
   "file_extension": ".py",
   "mimetype": "text/x-python",
   "name": "python",
   "nbconvert_exporter": "python",
   "pygments_lexer": "ipython3",
   "version": "3.7.3"
  }
 },
 "nbformat": 4,
 "nbformat_minor": 4
}
